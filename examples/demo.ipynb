{
  "cells": [
    {
      "cell_type": "markdown",
      "id": "6b818ba8",
      "metadata": {},
      "source": [
        "# hubeau-py Demo\n",
        "\n",
        "This notebook demonstrates the basic usage of the `hubeau_py` package.\n"
      ]
    },
    {
      "cell_type": "code",
      "execution_count": 2,
      "id": "b659f892",
      "metadata": {},
      "outputs": [
        {
          "name": "stdout",
          "output_type": "stream",
          "text": [
            "Number of stations in Paris: 7\n"
          ]
        },
        {
          "data": {
            "text/plain": [
              "[StationPc(code_station='03081000', libelle_station='LA SEINE A PARIS-12E--ARRONDISSEMENT 1', uri_station='https://id.eaufrance.fr/StationMesureEauxSurface/03081000', durete=None, coordonnee_x=654601.0, coordonnee_y=6859348.0, code_projection='26', libelle_projection='RGF93 / Lambert 93', longitude=2.381542365, latitude=48.832587164, code_commune='75056', libelle_commune='Paris', code_departement='75', libelle_departement='Paris', code_region='11', libelle_region='Île-de-France', code_cours_eau='----0010', nom_cours_eau='La Seine', uri_cours_eau='https://id.eaufrance.fr/CoursEau_Carthage2017/----0010', nom_masse_deau='la Seine du confluent de la Marne  exclu  au confluent du Ru d Enghien  inclus', code_masse_deau='HR155A', code_eu_masse_deau='FRHR155A', uri_masse_deau='http://id.eaufrance.fr/MasseDEauRiviere_VEDL2019/HR155A', code_eu_sous_bassin='FRH_IF', nom_sous_bassin='Ile de France', uri_sous_bassin='https://id.eaufrance.fr/SsBassinDCEAdmin/FRH_IF', code_bassin='H', code_eu_bassin='FRH', nom_bassin=\"La Seine et les cours d'eau côtiers normands\", uri_bassin='http://id.eaufrance.fr/BassinDCE/FRH', type_entite_hydro='2', commentaire=None, date_creation='1971-01-01', date_arret=None, date_maj_information='2019-11-20', finalite='0', localisation_precise='Non renseignée', nature='M', altitude_point_caracteristique=35.0, point_kilometrique=None, premier_mois_annee_etiage=None, superficie_bassin_versant_reel=None, superficie_bassin_versant_topo=None, geometry=Point(type='Point', coordinates=[2.3815423651905463, 48.83258716372681])),\n",
              " StationPc(code_station='03081270', libelle_station='LA SEINE A PARIS--7E--ARRONDISSEMENT 1', uri_station='https://id.eaufrance.fr/StationMesureEauxSurface/03081270', durete=None, coordonnee_x=650498.0, coordonnee_y=6862616.0, code_projection='26', libelle_projection='RGF93 / Lambert 93', longitude=2.325270569, latitude=48.861674085, code_commune='75056', libelle_commune='Paris', code_departement='75', libelle_departement='Paris', code_region='11', libelle_region='Île-de-France', code_cours_eau=None, nom_cours_eau=None, uri_cours_eau=None, nom_masse_deau=None, code_masse_deau=None, code_eu_masse_deau=None, uri_masse_deau=None, code_eu_sous_bassin=None, nom_sous_bassin=None, uri_sous_bassin=None, code_bassin=None, code_eu_bassin=None, nom_bassin=None, uri_bassin=None, type_entite_hydro='2', commentaire=None, date_creation='1971-01-01', date_arret=None, date_maj_information='2019-02-21', finalite='0', localisation_precise='Non renseignée', nature='M', altitude_point_caracteristique=0.0, point_kilometrique=None, premier_mois_annee_etiage=None, superficie_bassin_versant_reel=None, superficie_bassin_versant_topo=None, geometry=Point(type='Point', coordinates=[2.3252705692311433, 48.861674085063825])),\n",
              " StationPc(code_station='03081570', libelle_station='LA SEINE A PARIS-16E--ARRONDISSEMENT 2', uri_station='https://id.eaufrance.fr/StationMesureEauxSurface/03081570', durete=None, coordonnee_x=646248.0, coordonnee_y=6860122.0, code_projection='26', libelle_projection='RGF93 / Lambert 93', longitude=2.267660057, latitude=48.838905246, code_commune='75056', libelle_commune='Paris', code_departement='75', libelle_departement='Paris', code_region='11', libelle_region='Île-de-France', code_cours_eau=None, nom_cours_eau=None, uri_cours_eau=None, nom_masse_deau=None, code_masse_deau=None, code_eu_masse_deau=None, uri_masse_deau=None, code_eu_sous_bassin=None, nom_sous_bassin=None, uri_sous_bassin=None, code_bassin=None, code_eu_bassin=None, nom_bassin=None, uri_bassin=None, type_entite_hydro='2', commentaire=None, date_creation='1971-01-01', date_arret=None, date_maj_information='2019-02-21', finalite='0', localisation_precise='Non renseignée', nature='M', altitude_point_caracteristique=0.0, point_kilometrique=None, premier_mois_annee_etiage=None, superficie_bassin_versant_reel=None, superficie_bassin_versant_topo=None, geometry=Point(type='Point', coordinates=[2.267660057143038, 48.83890524566097])),\n",
              " StationPc(code_station='03112328', libelle_station='BONNEUIL-SUR-MARNE 8', uri_station='https://id.eaufrance.fr/StationMesureEauxSurface/03112328', durete=None, coordonnee_x=652501.84, coordonnee_y=6861609.35, code_projection='26', libelle_projection='RGF93 / Lambert 93', longitude=2.352694831, latitude=48.85277225, code_commune='75056', libelle_commune='Paris', code_departement='75', libelle_departement='Paris', code_region='11', libelle_region='Île-de-France', code_cours_eau=None, nom_cours_eau=None, uri_cours_eau=None, nom_masse_deau=None, code_masse_deau=None, code_eu_masse_deau=None, uri_masse_deau=None, code_eu_sous_bassin=None, nom_sous_bassin=None, uri_sous_bassin=None, code_bassin=None, code_eu_bassin=None, nom_bassin=None, uri_bassin=None, type_entite_hydro='2', commentaire=None, date_creation='2012-08-30', date_arret=None, date_maj_information='2019-02-21', finalite='0', localisation_precise='Non renseignée', nature='M', altitude_point_caracteristique=0.0, point_kilometrique=None, premier_mois_annee_etiage=None, superficie_bassin_versant_reel=None, superficie_bassin_versant_topo=None, geometry=Point(type='Point', coordinates=[2.35269483093063, 48.85277225003507])),\n",
              " StationPc(code_station='03112331', libelle_station='BONNEUIL-SUR-MARNE 9', uri_station='https://id.eaufrance.fr/StationMesureEauxSurface/03112331', durete=None, coordonnee_x=662319.0, coordonnee_y=6853622.0, code_projection='26', libelle_projection='RGF93 / Lambert 93', longitude=2.487185797, latitude=48.781588307, code_commune='75056', libelle_commune='Paris', code_departement='75', libelle_departement='Paris', code_region='11', libelle_region='Île-de-France', code_cours_eau=None, nom_cours_eau=None, uri_cours_eau=None, nom_masse_deau=None, code_masse_deau=None, code_eu_masse_deau=None, uri_masse_deau=None, code_eu_sous_bassin=None, nom_sous_bassin=None, uri_sous_bassin=None, code_bassin=None, code_eu_bassin=None, nom_bassin=None, uri_bassin=None, type_entite_hydro='2', commentaire=None, date_creation='2012-08-30', date_arret=None, date_maj_information='2019-02-21', finalite='0', localisation_precise='Non renseignée', nature='M', altitude_point_caracteristique=0.0, point_kilometrique=None, premier_mois_annee_etiage=None, superficie_bassin_versant_reel=None, superficie_bassin_versant_topo=None, geometry=Point(type='Point', coordinates=[2.4871857969049316, 48.78158830727334])),\n",
              " StationPc(code_station='06035230', libelle_station=\"COSANNE A PARIS L'HOPITAL\", uri_station='https://id.eaufrance.fr/StationMesureEauxSurface/06035230', durete=None, coordonnee_x=824838.0, coordonnee_y=6647042.0, code_projection='26', libelle_projection='RGF93 / Lambert 93', longitude=4.640340114, latitude=46.911895385, code_commune='71343', libelle_commune=\"Paris-l'Hôpital\", code_departement='71', libelle_departement='Saône-et-Loire', code_region='27', libelle_region='Bourgogne-Franche-Comté', code_cours_eau='U3010500', nom_cours_eau='La Cosanne', uri_cours_eau='https://id.eaufrance.fr/CoursEau_Carthage2017/U3010500', nom_masse_deau='ruisseau la cosanne', code_masse_deau='DR12102', code_eu_masse_deau='FRDR12102', uri_masse_deau='http://id.eaufrance.fr/MasseDEauRiviere_VEDL2019/DR12102', code_eu_sous_bassin='FRD_SAON', nom_sous_bassin='Saône', uri_sous_bassin='https://id.eaufrance.fr/SsBassinDCEAdmin/FRD_SAON', code_bassin='D', code_eu_bassin='FRD', nom_bassin=\"Le Rhône et les cours d'eau côtiers méditerranéens\", uri_bassin='http://id.eaufrance.fr/BassinDCE/FRD', type_entite_hydro='2', commentaire=None, date_creation='2012-08-06', date_arret=None, date_maj_information='2019-07-08', finalite='0', localisation_precise='Amont rejet STEP', nature='M', altitude_point_caracteristique=268.0, point_kilometrique=None, premier_mois_annee_etiage=None, superficie_bassin_versant_reel=None, superficie_bassin_versant_topo=None, geometry=Point(type='Point', coordinates=[4.640340113835596, 46.911895384836676])),\n",
              " StationPc(code_station='06035240', libelle_station=\"COSANNE A PARIS L'HOPITAL 1\", uri_station='https://id.eaufrance.fr/StationMesureEauxSurface/06035240', durete=None, coordonnee_x=825096.0, coordonnee_y=6646804.0, code_projection='26', libelle_projection='RGF93 / Lambert 93', longitude=4.643664104, latitude=46.90970468, code_commune='71343', libelle_commune=\"Paris-l'Hôpital\", code_departement='71', libelle_departement='Saône-et-Loire', code_region='27', libelle_region='Bourgogne-Franche-Comté', code_cours_eau='U3010500', nom_cours_eau='La Cosanne', uri_cours_eau='https://id.eaufrance.fr/CoursEau_Carthage2017/U3010500', nom_masse_deau='ruisseau la cosanne', code_masse_deau='DR12102', code_eu_masse_deau='FRDR12102', uri_masse_deau='http://id.eaufrance.fr/MasseDEauRiviere_VEDL2019/DR12102', code_eu_sous_bassin='FRD_SAON', nom_sous_bassin='Saône', uri_sous_bassin='https://id.eaufrance.fr/SsBassinDCEAdmin/FRD_SAON', code_bassin='D', code_eu_bassin='FRD', nom_bassin=\"Le Rhône et les cours d'eau côtiers méditerranéens\", uri_bassin='http://id.eaufrance.fr/BassinDCE/FRD', type_entite_hydro='2', commentaire=None, date_creation='2012-08-06', date_arret=None, date_maj_information='2019-07-08', finalite='0', localisation_precise='Aval rejet STEP', nature='M', altitude_point_caracteristique=262.0, point_kilometrique=None, premier_mois_annee_etiage=None, superficie_bassin_versant_reel=None, superficie_bassin_versant_topo=None, geometry=Point(type='Point', coordinates=[4.643664104217275, 46.909704680494286]))]"
            ]
          },
          "execution_count": 2,
          "metadata": {},
          "output_type": "execute_result"
        }
      ],
      "source": [
        "from hubeau_py.client import HubeauClient\n",
        "\n",
        "client = HubeauClient()\n",
        "stations = client.qualite_rivieres.get_stations(\"Paris\")\n",
        "print(f\"Number of stations in Paris: {len(stations)}\")\n",
        "stations"
      ]
    }
  ],
  "metadata": {
    "kernelspec": {
      "display_name": ".venv",
      "language": "python",
      "name": "python3"
    },
    "language_info": {
      "codemirror_mode": {
        "name": "ipython",
        "version": 3
      },
      "file_extension": ".py",
      "mimetype": "text/x-python",
      "name": "python",
      "nbconvert_exporter": "python",
      "pygments_lexer": "ipython3",
      "version": "3.13.3"
    }
  },
  "nbformat": 4,
  "nbformat_minor": 5
}
