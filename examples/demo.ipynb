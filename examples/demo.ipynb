{
  "cells": [
    {
      "cell_type": "markdown",
      "id": "6b818ba8",
      "metadata": {},
      "source": [
        "# hubeau-py Demo\n",
        "\n",
        "This notebook demonstrates the basic usage of the `hubeau_py` package.\n"
      ]
    },
    {
      "cell_type": "code",
      "execution_count": 3,
      "id": "b659f892",
      "metadata": {},
      "outputs": [
        {
          "name": "stdout",
          "output_type": "stream",
          "text": [
            "Number of stations in Agen: 4\n"
          ]
        },
        {
          "data": {
            "text/plain": [
              "[StationPC(code_station='05112000', libelle_commune='Agen'),\n",
              " StationPC(code_station='05112150', libelle_commune='Agen'),\n",
              " StationPC(code_station='BV000012', libelle_commune='Agen'),\n",
              " StationPC(code_station='BV000014', libelle_commune='Agen')]"
            ]
          },
          "execution_count": 3,
          "metadata": {},
          "output_type": "execute_result"
        }
      ],
      "source": [
        "from hubeau_py.client import HubeauClient\n",
        "\n",
        "client = HubeauClient()\n",
        "stations = client.qualite_rivieres.get_stations(\"Agen\")\n",
        "print(f\"Number of stations in Agen: {len(stations)}\")\n",
        "stations"
      ]
    }
  ],
  "metadata": {
    "kernelspec": {
      "display_name": ".venv",
      "language": "python",
      "name": "python3"
    },
    "language_info": {
      "codemirror_mode": {
        "name": "ipython",
        "version": 3
      },
      "file_extension": ".py",
      "mimetype": "text/x-python",
      "name": "python",
      "nbconvert_exporter": "python",
      "pygments_lexer": "ipython3",
      "version": "3.13.3"
    }
  },
  "nbformat": 4,
  "nbformat_minor": 5
}
