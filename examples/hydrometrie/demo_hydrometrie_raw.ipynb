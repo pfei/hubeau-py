{
 "cells": [
  {
   "cell_type": "markdown",
   "id": "0cc5084c",
   "metadata": {},
   "source": [
    "# Hydrology API Demo (`hydrométrie`)\n",
    "\n",
    "(**demo_hydrometrie_raw.ipynb**: no usage of hubeau client)\n",
    "\n",
    "**Managing timestamps and codes in the Hubeau hydrometry API:**\n",
    "\n",
    "- **`code_entite`:** parameter to use in the request to filter on a specific station.\n",
    "- **`code_station`:** field present in the JSON response that identifies the station associated with each observation.\n",
    "- **In practice, to obtain a clean time series for a station, you must use the full station code (e.g., `F700000102`) as the value of the `code_entite` parameter in the request.**\n",
    "- **In the response, the `code_station` field allows you to verify that all observations indeed come from the requested station.**\n",
    "- **Thus, each observation is associated with a unique timestamp for the selected station, which ensures an exploitable time series.**\n"
   ]
  },
  {
   "cell_type": "code",
   "execution_count": 1,
   "id": "d80dce91",
   "metadata": {},
   "outputs": [],
   "source": [
    "import json\n",
    "\n",
    "import pandas as pd\n",
    "import requests"
   ]
  },
  {
   "cell_type": "code",
   "execution_count": 2,
   "id": "b1786bb2",
   "metadata": {},
   "outputs": [
    {
     "name": "stdout",
     "output_type": "stream",
     "text": [
      "  code_station                                    libelle_station  \\\n",
      "0   F700000101     La Seine à Paris - Pont National - Observateur   \n",
      "1   F700000102  La Seine à Paris - Austerlitz - station limni ...   \n",
      "2   F700000103  La Seine à Paris - Austerlitz [>2006] - Statio...   \n",
      "3   F700000105        La Seine à Paris - Pont Royal - observateur   \n",
      "4   F700000109  La Seine à Paris - Austerlitz - historique - a...   \n",
      "5   F700000110  La Seine à Paris - Austerlitz - historique - d...   \n",
      "6   F700000111  La Seine à Paris - Austerlitz - historique - d...   \n",
      "7   F700000112        La Seine à Paris - Pont des Invalides [VNF]   \n",
      "\n",
      "  libelle_commune  \n",
      "0           PARIS  \n",
      "1           PARIS  \n",
      "2           PARIS  \n",
      "3           PARIS  \n",
      "4           PARIS  \n",
      "5           PARIS  \n",
      "6           PARIS  \n",
      "7           PARIS  \n"
     ]
    }
   ],
   "source": [
    "url_stations = \"https://hubeau.eaufrance.fr/api/v2/hydrometrie/referentiel/stations\"\n",
    "params = {\n",
    "    \"code_commune_station\": \"75056\", # INSEE code for Paris\n",
    "    \"size\": 20,\n",
    "    \"format\": \"json\"\n",
    "}\n",
    "response = requests.get(url_stations, params=params)\n",
    "data = response.json()[\"data\"]  # The 'data' key contains the list of stations\n",
    "\n",
    "df = pd.DataFrame(data)\n",
    "# print(df.columns)\n",
    "print(df[[\"code_station\", \"libelle_station\", \"libelle_commune\"]])\n"
   ]
  },
  {
   "cell_type": "code",
   "execution_count": 3,
   "id": "4dfc1061",
   "metadata": {},
   "outputs": [
    {
     "name": "stdout",
     "output_type": "stream",
     "text": [
      "[\n",
      "  \"code_site\",\n",
      "  \"code_station\",\n",
      "  \"grandeur_hydro\",\n",
      "  \"date_debut_serie\",\n",
      "  \"date_fin_serie\",\n",
      "  \"code_systeme_alti_serie\",\n",
      "  \"date_obs\",\n",
      "  \"resultat_obs\",\n",
      "  \"code_methode_obs\",\n",
      "  \"libelle_methode_obs\",\n",
      "  \"code_qualification_obs\",\n",
      "  \"libelle_qualification_obs\",\n",
      "  \"longitude\",\n",
      "  \"latitude\",\n",
      "  \"code_statut\",\n",
      "  \"libelle_statut\",\n",
      "  \"code_continuite\",\n",
      "  \"libelle_continuite\"\n",
      "]\n",
      "    code_station              date_obs  resultat_obs  longitude  latitude\n",
      "0     F700000102  2025-06-12T08:00:00Z        1035.0   2.365511  48.84469\n",
      "1     F700000102  2025-06-12T07:50:00Z        1026.0   2.365511  48.84469\n",
      "2     F700000102  2025-06-12T07:40:00Z        1027.0   2.365511  48.84469\n",
      "3     F700000102  2025-06-12T07:30:00Z        1021.0   2.365511  48.84469\n",
      "4     F700000102  2025-06-12T07:20:00Z        1019.0   2.365511  48.84469\n",
      "..           ...                   ...           ...        ...       ...\n",
      "995   F700000102  2025-06-05T09:50:00Z        1017.0   2.365511  48.84469\n",
      "996   F700000102  2025-06-05T09:40:00Z        1007.0   2.365511  48.84469\n",
      "997   F700000102  2025-06-05T09:30:00Z        1015.0   2.365511  48.84469\n",
      "998   F700000102  2025-06-05T09:20:00Z        1012.0   2.365511  48.84469\n",
      "999   F700000102  2025-06-05T09:10:00Z        1029.0   2.365511  48.84469\n",
      "\n",
      "[1000 rows x 5 columns]\n"
     ]
    }
   ],
   "source": [
    "url_observations_tr = \"https://hubeau.eaufrance.fr/api/v2/hydrometrie/observations_tr\"\n",
    "\n",
    "NB_OF_RESULSTS = 1000\n",
    "\n",
    "params = {\n",
    "    \"code_entite\": \"F700000102\",\n",
    "    \"grandeur_hydro\": \"H\",\n",
    "    \"size\": NB_OF_RESULSTS,\n",
    "    \"sort\": \"desc\"\n",
    "}\n",
    "response = requests.get(url_observations_tr, params=params)\n",
    "data = response.json()[\"data\"]\n",
    "print(json.dumps(list(data[0].keys()), indent=2, ensure_ascii=False))\n",
    "df = pd.DataFrame(data)\n",
    "print(df[[\"code_station\", \"date_obs\", \"resultat_obs\", \"longitude\", \"latitude\"]])"
   ]
  }
 ],
 "metadata": {
  "kernelspec": {
   "display_name": ".venv",
   "language": "python",
   "name": "python3"
  },
  "language_info": {
   "codemirror_mode": {
    "name": "ipython",
    "version": 3
   },
   "file_extension": ".py",
   "mimetype": "text/x-python",
   "name": "python",
   "nbconvert_exporter": "python",
   "pygments_lexer": "ipython3",
   "version": "3.13.3"
  }
 },
 "nbformat": 4,
 "nbformat_minor": 5
}
