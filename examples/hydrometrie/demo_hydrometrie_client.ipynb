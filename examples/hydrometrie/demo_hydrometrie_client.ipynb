{
 "cells": [
  {
   "cell_type": "markdown",
   "id": "0cc5084c",
   "metadata": {},
   "source": [
    "# Hydrology API Demo (`hydrométrie`)\n",
    "This notebook demonstrates how to use `hubeau-py` to access and explore the Hydrology (hydrométrie) endpoints of the Hubeau API.\n",
    "\n",
    "\n",
    "**Managing timestamps and codes in the Hubeau hydrometry API:**\n",
    "\n",
    "- **`code_entite`:** parameter to use in the request to filter on a specific station.\n",
    "- **`code_station`:** field present in the JSON response that identifies the station associated with each observation.\n",
    "- **In practice, to obtain a clean time series for a station, you must use the full station code (e.g., `F700000102`) as the value of the `code_entite` parameter in the request.**\n",
    "- **In the response, the `code_station` field allows you to verify that all observations indeed come from the requested station.**\n",
    "- **Thus, each observation is associated with a unique timestamp for the selected station, which ensures an exploitable time series.**\n"
   ]
  },
  {
   "cell_type": "code",
   "execution_count": null,
   "id": "35be07a2",
   "metadata": {},
   "outputs": [],
   "source": []
  }
 ],
 "metadata": {
  "kernelspec": {
   "display_name": ".venv",
   "language": "python",
   "name": "python3"
  },
  "language_info": {
   "codemirror_mode": {
    "name": "ipython",
    "version": 3
   },
   "file_extension": ".py",
   "mimetype": "text/x-python",
   "name": "python",
   "nbconvert_exporter": "python",
   "pygments_lexer": "ipython3",
   "version": "3.13.3"
  }
 },
 "nbformat": 4,
 "nbformat_minor": 5
}
