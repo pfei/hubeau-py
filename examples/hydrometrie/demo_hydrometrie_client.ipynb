{
 "cells": [
  {
   "cell_type": "markdown",
   "id": "0cc5084c",
   "metadata": {},
   "source": [
    "# Hydrology API Demo (`hydrométrie`)\n",
    "This notebook demonstrates how to use `hubeau-py` to access and explore the Hydrology (hydrométrie) endpoints of the Hubeau API.\n",
    "\n",
    "\n",
    "**Managing timestamps and codes in the Hubeau hydrometry API:**\n",
    "\n",
    "- **`code_entite`:** parameter to use in the request to filter on a specific station.\n",
    "- **`code_station`:** field present in the JSON response that identifies the station associated with each observation.\n",
    "- **In practice, to obtain a clean time series for a station, you must use the full station code (e.g., `F700000102`) as the value of the `code_entite` parameter in the request.**\n",
    "- **In the response, the `code_station` field allows you to verify that all observations indeed come from the requested station.**\n",
    "- **Thus, each observation is associated with a unique timestamp for the selected station, which ensures an exploitable time series.**\n",
    "\n",
    "\n"
   ]
  },
  {
   "cell_type": "code",
   "execution_count": 1,
   "id": "35be07a2",
   "metadata": {},
   "outputs": [],
   "source": [
    "from hubeau_py.client import HubeauClient, SimpleHydrometrieClient\n",
    "\n",
    "client = HubeauClient()\n",
    "simple_client = SimpleHydrometrieClient()"
   ]
  },
  {
   "cell_type": "markdown",
   "id": "1ca70400",
   "metadata": {},
   "source": [
    "## Hubeau client for hydrometrie: usage examples"
   ]
  },
  {
   "cell_type": "code",
   "execution_count": 2,
   "id": "5b415fa0",
   "metadata": {},
   "outputs": [
    {
     "name": "stdout",
     "output_type": "stream",
     "text": [
      "Site: Le Crould à Goussainville (code: F7050001)\n",
      "Site: La Thève à Asnières-sur-Oise [Partielle] (code: H2240001)\n",
      "Site: [Le ru de Baillon] à Asnières-sur-Oise (code: H2240002)\n"
     ]
    }
   ],
   "source": [
    "sites = client.hydrometrie.get_sites(code_departement=\"95\", size=3)\n",
    "for site in sites:\n",
    "    print(f\"Site: {site.libelle_site} (code: {site.code_site})\")"
   ]
  },
  {
   "cell_type": "code",
   "execution_count": 3,
   "id": "d55dcaa4",
   "metadata": {},
   "outputs": [
    {
     "name": "stdout",
     "output_type": "stream",
     "text": [
      "Station: La Seine à Paris - Pont National - Observateur (code: F700000101)\n",
      "Station: La Seine à Paris - Austerlitz - station limni - secours CT (code: F700000102)\n",
      "Station: La Seine à Paris - Austerlitz [>2006] - Station débitmétrique (code: F700000103)\n"
     ]
    }
   ],
   "source": [
    "stations = client.hydrometrie.get_stations(code_commune_station=\"75056\", size=3)\n",
    "for station in stations:\n",
    "    print(f\"Station: {station.libelle_station} (code: {station.code_station})\")"
   ]
  },
  {
   "cell_type": "code",
   "execution_count": 4,
   "id": "91c9163f",
   "metadata": {},
   "outputs": [
    {
     "name": "stdout",
     "output_type": "stream",
     "text": [
      "Date: 2025-06-14T15:40:00Z | Value: 364.0\n",
      "Date: 2025-06-14T15:40:00Z | Value: 19000.0\n",
      "Date: 2025-06-14T15:40:00Z | Value: 19000.0\n",
      "Date: 2025-06-14T15:40:00Z | Value: 950.0\n",
      "Date: 2025-06-14T15:40:00Z | Value: 24800.0\n"
     ]
    }
   ],
   "source": [
    "observations_tr = client.hydrometrie.get_observations_tr(code_station=\"Y120201001\", size=5)\n",
    "for obs in observations_tr:\n",
    "    print(f\"Date: {obs.date_obs} | Value: {obs.resultat_obs}\")"
   ]
  },
  {
   "cell_type": "code",
   "execution_count": 5,
   "id": "debe5937",
   "metadata": {},
   "outputs": [
    {
     "name": "stdout",
     "output_type": "stream",
     "text": [
      "Date: 2013-01-01 | Value: 555.0\n",
      "Date: 2013-02-01 | Value: 457.0\n",
      "Date: 2013-03-01 | Value: 630.0\n",
      "Date: 2013-04-01 | Value: 2726.0\n",
      "Date: 2013-05-01 | Value: 2434.0\n"
     ]
    }
   ],
   "source": [
    "obs_elab = client.hydrometrie.get_obs_elab(\n",
    "    code_station=\"Y390001001\",\n",
    "    grandeur_hydro_elab=\"QmM\",\n",
    "    size=5\n",
    ")\n",
    "for obs in obs_elab:\n",
    "    print(f\"Date: {obs.date_obs_elab} | Value: {obs.resultat_obs_elab}\")"
   ]
  },
  {
   "cell_type": "markdown",
   "id": "41330f61",
   "metadata": {},
   "source": [
    "## Simple hydrometrie client: usage examples"
   ]
  },
  {
   "cell_type": "code",
   "execution_count": 7,
   "id": "4e80dafd",
   "metadata": {},
   "outputs": [
    {
     "name": "stdout",
     "output_type": "stream",
     "text": [
      "Sites in department 95:\n",
      "  Site: Le Crould à Goussainville (code: F7050001)\n",
      "  Site: La Thève à Asnières-sur-Oise [Partielle] (code: H2240001)\n",
      "  Site: [Le ru de Baillon] à Asnières-sur-Oise (code: H2240002)\n"
     ]
    }
   ],
   "source": [
    "print(\"Sites in department 95:\")\n",
    "sites = simple_client.get_sites_by_department(\"95\", size=3)\n",
    "for site in sites:\n",
    "    print(f\"  Site: {site.libelle_site} (code: {site.code_site})\")"
   ]
  },
  {
   "cell_type": "code",
   "execution_count": 8,
   "id": "754c97e4",
   "metadata": {},
   "outputs": [
    {
     "name": "stdout",
     "output_type": "stream",
     "text": [
      "\n",
      "Stations in commune 75056:\n",
      "  Station: La Seine à Paris - Pont National - Observateur (code: F700000101)\n",
      "  Station: La Seine à Paris - Austerlitz - station limni - secours CT (code: F700000102)\n",
      "  Station: La Seine à Paris - Austerlitz [>2006] - Station débitmétrique (code: F700000103)\n"
     ]
    }
   ],
   "source": [
    "print(\"\\nStations in commune 75056:\")\n",
    "stations = simple_client.get_stations_by_commune(\"75056\", size=3)\n",
    "for station in stations:\n",
    "    print(f\"  Station: {station.libelle_station} (code: {station.code_station})\")"
   ]
  },
  {
   "cell_type": "code",
   "execution_count": 9,
   "id": "0c936dfb",
   "metadata": {},
   "outputs": [
    {
     "name": "stdout",
     "output_type": "stream",
     "text": [
      "\n",
      "Raw observations for station Y120201001:\n",
      "  Date: 2025-06-14T15:45:00Z | Value: 437.0\n",
      "  Date: 2025-06-14T15:45:00Z | Value: 254.0\n",
      "  Date: 2025-06-14T15:45:00Z | Value: 26000.0\n"
     ]
    }
   ],
   "source": [
    "print(\"\\nRaw observations for station Y120201001:\")\n",
    "obs_tr = simple_client.get_observations_by_station(\"Y120201001\", size=3)\n",
    "for obs in obs_tr:\n",
    "    print(f\"  Date: {obs.date_obs} | Value: {obs.resultat_obs}\")"
   ]
  },
  {
   "cell_type": "code",
   "execution_count": 10,
   "id": "e51bd269",
   "metadata": {},
   "outputs": [
    {
     "name": "stdout",
     "output_type": "stream",
     "text": [
      "\n",
      "Elaborated observations for station Y390001001:\n",
      "  Date: 2013-01-01 | Value: 555.0\n",
      "  Date: 2013-02-01 | Value: 457.0\n",
      "  Date: 2013-03-01 | Value: 630.0\n"
     ]
    }
   ],
   "source": [
    "print(\"\\nElaborated observations for station Y390001001:\")\n",
    "obs_elab = simple_client.get_observations_elab_by_station(\"Y390001001\", size=3)\n",
    "for obs in obs_elab:\n",
    "    print(f\"  Date: {obs.date_obs_elab} | Value: {obs.resultat_obs_elab}\")"
   ]
  }
 ],
 "metadata": {
  "kernelspec": {
   "display_name": ".venv",
   "language": "python",
   "name": "python3"
  },
  "language_info": {
   "codemirror_mode": {
    "name": "ipython",
    "version": 3
   },
   "file_extension": ".py",
   "mimetype": "text/x-python",
   "name": "python",
   "nbconvert_exporter": "python",
   "pygments_lexer": "ipython3",
   "version": "3.13.3"
  }
 },
 "nbformat": 4,
 "nbformat_minor": 5
}
